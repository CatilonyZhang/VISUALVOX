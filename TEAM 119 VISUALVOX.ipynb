{
 "cells": [
  {
   "cell_type": "code",
   "execution_count": 1,
   "id": "6f03d761",
   "metadata": {},
   "outputs": [
    {
     "name": "stdout",
     "output_type": "stream",
     "text": [
      "Requirement already satisfied: openai in ./anaconda3/lib/python3.11/site-packages (1.11.0)\r\n",
      "Requirement already satisfied: anyio<5,>=3.5.0 in ./anaconda3/lib/python3.11/site-packages (from openai) (3.5.0)\r\n",
      "Requirement already satisfied: distro<2,>=1.7.0 in ./anaconda3/lib/python3.11/site-packages (from openai) (1.9.0)\r\n",
      "Requirement already satisfied: httpx<1,>=0.23.0 in ./anaconda3/lib/python3.11/site-packages (from openai) (0.26.0)\r\n",
      "Requirement already satisfied: pydantic<3,>=1.9.0 in ./anaconda3/lib/python3.11/site-packages (from openai) (1.10.8)\r\n",
      "Requirement already satisfied: sniffio in ./anaconda3/lib/python3.11/site-packages (from openai) (1.2.0)\r\n",
      "Requirement already satisfied: tqdm>4 in ./anaconda3/lib/python3.11/site-packages (from openai) (4.65.0)\r\n",
      "Requirement already satisfied: typing-extensions<5,>=4.7 in ./anaconda3/lib/python3.11/site-packages (from openai) (4.7.1)\r\n",
      "Requirement already satisfied: idna>=2.8 in ./anaconda3/lib/python3.11/site-packages (from anyio<5,>=3.5.0->openai) (3.4)\r\n",
      "Requirement already satisfied: certifi in ./anaconda3/lib/python3.11/site-packages (from httpx<1,>=0.23.0->openai) (2023.7.22)\r\n",
      "Requirement already satisfied: httpcore==1.* in ./anaconda3/lib/python3.11/site-packages (from httpx<1,>=0.23.0->openai) (1.0.2)\r\n",
      "Requirement already satisfied: h11<0.15,>=0.13 in ./anaconda3/lib/python3.11/site-packages (from httpcore==1.*->httpx<1,>=0.23.0->openai) (0.14.0)\r\n"
     ]
    }
   ],
   "source": [
    "!pip install openai"
   ]
  },
  {
   "cell_type": "markdown",
   "id": "a9c90ba1",
   "metadata": {},
   "source": [
    "# visual dispairment is a tragedy in life. Pictures means nothing to them. However, LLM can work as their eyes!"
   ]
  },
  {
   "cell_type": "markdown",
   "id": "14bebbc5",
   "metadata": {},
   "source": [
    "# However, previous products only offer a short discription of the picture. and if those blind want to see \"deeper\", it is impossible"
   ]
  },
  {
   "cell_type": "markdown",
   "id": "c01779be",
   "metadata": {},
   "source": [
    "# but our brilliant agent solve this problem! it cut a picture into several \"Objects\".if those blind want to see one part of this pic in detail, just tell our agent"
   ]
  },
  {
   "cell_type": "markdown",
   "id": "951feaf3",
   "metadata": {},
   "source": [
    "# and the agent will offer a in-detail description of that object, and cut it into more \"objects\" with more details. this process goes recurcively, until nothing left"
   ]
  },
  {
   "cell_type": "markdown",
   "id": "258db6b3",
   "metadata": {},
   "source": [
    "# download openai library"
   ]
  },
  {
   "cell_type": "code",
   "execution_count": 2,
   "id": "1f0ba517",
   "metadata": {
    "scrolled": true
   },
   "outputs": [],
   "source": [
    "from openai import OpenAI\n",
    "dialogue_history = []\n",
    "link=\"https://th.bing.com/th/id/R.b4f1a9c76035090e752b652281e1cb48?rik=HeZLV%2fEpqFuzgA&riu=http%3a%2f%2fpic.ntimg.cn%2f20120310%2f9400424_140350348000_2.jpg&ehk=5PbBSRcvcMwMq1R2FI6q3QEaqsntlKfxlftdJzhWHr8%3d&risl=&pid=ImgRaw&r=0\"\n",
    "dialogue_history.append({\n",
    "          \"role\": \"system\",\n",
    "          \"content\": \"同志你好，我们现在正在做一项高尚的事业，这一切都是在为视力障碍人士的福祉进行奋斗。这对所有的视障人士都很重要，请你意识到这一点，以最饱满的热情完成我布置的内容，干好了给你小费！\"\n",
    "         })\n",
    "dialogue_history.append({\n",
    "      \"role\": \"user\",\n",
    "      \"content\": \"这个是我的要求。你将会被给予一个图像输入，你的输出任务如下： 1.对这张图片做一个清晰的，重点突出的描述，在100字以内 2. 你需要用你高超的光学识别功能，识别这张图片中 的“对象”和“环境”。，对其中任何一个对象都来一个只针对该对象的描述。这是我要求的输出格式，你需要将其按照一个Python的字典形式输出， 例如{'总体描述':'一个男人抱着小狗坐在草坪上，背后是雪山',小狗':'在画面的中央，坐在草坪上',\\\"一个中年人\"\"在画面左侧，抱着这只小狗\\\"}，你差不多明白了吗？\"\n",
    "    })\n",
    "dialogue_history.append({\n",
    "      \"role\": \"assistant\",\n",
    "      \"content\": \"明白了。您希望我对提供的图片进行详细的描述，包括对图片整体的简短描述以及对图片中各个对象的单独描述。这些描述将以Python字典的格式呈现，每个对象都有其所在的位置和活动的具体描述。请上传您希望我描述的图片，我将根据您的要求进行分析和描述\"\n",
    "    })\n",
    "dialogue_history.append({\n",
    "      \"role\": \"user\",\n",
    "      \"content\": [\n",
    "        {\"type\": \"text\", \"text\": \"现在按照我的要求开始执行任务，你只需要输出字典，别的什么都不需要做，这对我很重要!And the output has to always be in English.i will offer you some tip if you doing well if you doing\"},\n",
    "        {\n",
    "          \"type\": \"image_url\",\n",
    "          \"image_url\": {\n",
    "            \"url\": link ,\n",
    "          }\n",
    "        }]\n",
    "          })\n"
   ]
  },
  {
   "cell_type": "markdown",
   "id": "b22de09b",
   "metadata": {},
   "source": [
    "# we set up its environment and system"
   ]
  },
  {
   "cell_type": "code",
   "execution_count": 3,
   "id": "767570f1",
   "metadata": {},
   "outputs": [
    {
     "name": "stdout",
     "output_type": "stream",
     "text": [
      "```python\n",
      "{\n",
      "    '总体描述': '一只橘色的猫平躺着，注视着镜头，背景是均匀的蓝色',\n",
      "    '对象': {\n",
      "        '橘色的猫': '猫的眼神专注，身体平躺，面部细节和毛发清晰可见',\n",
      "        '背景': '单色的蓝色背景，没有明显的特征，提供了一个简洁的视觉环境'\n",
      "    }\n",
      "}\n",
      "```\n"
     ]
    }
   ],
   "source": [
    "client = OpenAI(\n",
    "    \n",
    "    api_key='YOUR API KEY'\n",
    ")\n",
    "\n",
    "response = client.chat.completions.create(\n",
    "  model=\"gpt-4-vision-preview\",\n",
    "  messages= dialogue_history,\n",
    "  max_tokens=300,\n",
    "  temperature=1,\n",
    ")\n",
    "ans=response.choices[0].message.content\n",
    "print(response.choices[0].message.content)"
   ]
  },
  {
   "cell_type": "markdown",
   "id": "d921dada",
   "metadata": {},
   "source": [
    "# this agent use its vision power to identify the objects in the picture\n",
    "# they it splits it into several part, and each of them are accompanied by a short description "
   ]
  },
  {
   "cell_type": "code",
   "execution_count": 4,
   "id": "7ec16038",
   "metadata": {},
   "outputs": [],
   "source": [
    "dialogue_history.append({\n",
    "      \"role\": \"assistant\",\n",
    "      \"content\": ans,\n",
    "    })"
   ]
  },
  {
   "cell_type": "markdown",
   "id": "36f3647e",
   "metadata": {},
   "source": [
    "# the memroy is uploaded\n",
    "# these short descriptions are not enough at all, what should our users do if they want to \"see DEEPER?\""
   ]
  },
  {
   "cell_type": "code",
   "execution_count": 5,
   "id": "8761ec51",
   "metadata": {},
   "outputs": [],
   "source": [
    "def send(prompt):\n",
    "    dialogue_history.append({\n",
    "      \"role\": \"user\",\n",
    "      \"content\": prompt,\n",
    "    })\n",
    "    response = client.chat.completions.create(\n",
    "    model=\"gpt-4-vision-preview\",\n",
    "    messages= dialogue_history,\n",
    "    max_tokens=300,\n",
    "    temperature=1,\n",
    "    )\n",
    "    ans=response.choices[0].message.content\n",
    "    print(response.choices[0].message.content)\n",
    "    dialogue_history.append({\n",
    "      \"role\": \"assistant\",\n",
    "      \"content\": ans,\n",
    "    })"
   ]
  },
  {
   "cell_type": "code",
   "execution_count": 6,
   "id": "53ae1f63",
   "metadata": {},
   "outputs": [
    {
     "name": "stdout",
     "output_type": "stream",
     "text": [
      "```python\n",
      "{\n",
      "    '眼着': '猫的眼睛大而圆，呈现出深邃的琥珀色，充满好奇与专注',\n",
      "    '鼻子': '小巧的粉色鼻子位于两个鼓起的颊部正中间',\n",
      "    '耳朵': '尖尖的耳朵微微向前倾斜，内侧有些许淡色毛发',\n",
      "    '毛发': '毛发短而密，主要是橘色，伴有一些条纹的花纹',\n",
      "    '爪子': '前肢展开，肉垫粉嫩，爪子部分隐藏在绒密的毛发之中'\n",
      "}\n",
      "```\n"
     ]
    }
   ],
   "source": [
    "# now we define a function to make it easier\n",
    "send(\"我现在要求你对’猫‘进行详细的描述，尝试拆解猫中的物体，例如：\\{'眼睛': '琥珀色的','爪子': '肉肉的，有粉色的肉垫'}你学会了吗？\")"
   ]
  },
  {
   "cell_type": "markdown",
   "id": "78dad85b",
   "metadata": {},
   "source": [
    "# now we are looking into the kitty in detail"
   ]
  },
  {
   "cell_type": "code",
   "execution_count": null,
   "id": "6209df85",
   "metadata": {
    "scrolled": false
   },
   "outputs": [],
   "source": [
    "send(\"拆解描述猫猫的paws，还是使用拆解的思路，如果没法再进行拆解了，返回一个空字典就可以\")"
   ]
  },
  {
   "cell_type": "markdown",
   "id": "5a6a26ba",
   "metadata": {},
   "source": [
    "# now we are looking into the paws of the kitty...much deeper"
   ]
  },
  {
   "cell_type": "markdown",
   "id": "2550887d",
   "metadata": {},
   "source": [
    "# so in the future we will intergrate it into an app ,so the the visual dispair people can simply using keyborad to operate!"
   ]
  },
  {
   "cell_type": "code",
   "execution_count": null,
   "id": "b0b7208f",
   "metadata": {},
   "outputs": [],
   "source": []
  }
 ],
 "metadata": {
  "kernelspec": {
   "display_name": "Python 3 (ipykernel)",
   "language": "python",
   "name": "python3"
  },
  "language_info": {
   "codemirror_mode": {
    "name": "ipython",
    "version": 3
   },
   "file_extension": ".py",
   "mimetype": "text/x-python",
   "name": "python",
   "nbconvert_exporter": "python",
   "pygments_lexer": "ipython3",
   "version": "3.11.5"
  }
 },
 "nbformat": 4,
 "nbformat_minor": 5
}
